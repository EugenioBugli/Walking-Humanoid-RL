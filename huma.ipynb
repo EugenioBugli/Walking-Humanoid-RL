{
 "cells": [
  {
   "cell_type": "code",
   "execution_count": 1,
   "metadata": {},
   "outputs": [],
   "source": [
    "import gymnasium as gym\n",
    "import numpy as np\n",
    "import torch\n",
    "import torch.nn as nn\n",
    "import torchmetrics\n",
    "import torchvision\n",
    "import matplotlib.pyplot as plt"
   ]
  },
  {
   "cell_type": "code",
   "execution_count": 2,
   "metadata": {},
   "outputs": [],
   "source": [
    "env = gym.make(\n",
    "    id='Humanoid-v4',\n",
    "    healthy_reward=5,                       # costant reward given after each timestep if the humanoid has an healthy posture\n",
    "    terminate_when_unhealthy=True,          # if the humanoid has not a healthy posture, hence is out of range, then terminate\n",
    "    healthy_z_range=(1.0, 2.0),             # z-coordinate of the torso the indicate if the humanoid has an healthy posture or not\n",
    "    exclude_current_positions_from_observation=False,\n",
    ")\n",
    "\n",
    "val_env = gym.make(\n",
    "    id='Humanoid-v4',\n",
    "    healthy_reward=5,                       # costant reward given after each timestep if the humanoid has an healthy posture\n",
    "    terminate_when_unhealthy=True,          # if the humanoid has not a healthy posture, hence is out of range, then terminate\n",
    "    healthy_z_range=(1.0, 2.0),              # z-coordinate of the torso the indicate if the humanoid has an healthy posture or not\n",
    "    render_mode='human',\n",
    "    exclude_current_positions_from_observation=False\n",
    ")\n",
    "\n",
    "# Get the state space and action space\n",
    "n_actions = env.action_space\n",
    "\n",
    "n_frames = 4"
   ]
  },
  {
   "cell_type": "code",
   "execution_count": 3,
   "metadata": {},
   "outputs": [
    {
     "data": {
      "text/plain": [
       "Box(-0.4, 0.4, (17,), float32)"
      ]
     },
     "execution_count": 3,
     "metadata": {},
     "output_type": "execute_result"
    }
   ],
   "source": [
    "env.action_space"
   ]
  },
  {
   "cell_type": "code",
   "execution_count": 4,
   "metadata": {},
   "outputs": [
    {
     "data": {
      "text/plain": [
       "(378,)"
      ]
     },
     "execution_count": 4,
     "metadata": {},
     "output_type": "execute_result"
    }
   ],
   "source": [
    "env.observation_space.sample().shape"
   ]
  },
  {
   "cell_type": "markdown",
   "metadata": {},
   "source": [
    "observation = val_env.step(val_env.action_space.sample())[0]\n",
    "\n",
    "reward = val_env.step(val_env.action_space.sample())[1]\n",
    "\n",
    "terminated = val_env.step(val_env.action_space.sample())[2] # bool\n",
    "\n",
    "truncated = val_env.step(val_env.action_space.sample())[3] # bool\n",
    "\n",
    "info = val_env.step(val_env.action_space.sample())[4] # dict\n",
    "\n",
    "dict_keys(['reward_linvel', 'reward_quadctrl', 'reward_alive', 'x_position', 'y_position', 'distance_from_origin', 'x_velocity', 'y_velocity', 'forward_reward'])"
   ]
  },
  {
   "cell_type": "code",
   "execution_count": 5,
   "metadata": {},
   "outputs": [
    {
     "name": "stderr",
     "output_type": "stream",
     "text": [
      "/home/brock/.local/lib/python3.10/site-packages/glfw/__init__.py:916: GLFWError: (65537) b'The GLFW library is not initialized'\n",
      "  warnings.warn(message, GLFWError)\n"
     ]
    },
    {
     "name": "stdout",
     "output_type": "stream",
     "text": [
      "4.897015867763513\n"
     ]
    }
   ],
   "source": [
    "obs = val_env.reset()\n",
    "reward = []\n",
    "for _ in range(10000):\n",
    "    action = val_env.action_space.sample()\n",
    "    obs, rew, _, _, info= val_env.step(action)\n",
    "    reward.append(rew)\n",
    "    val_env.render()\n",
    "print(np.array(reward).mean())"
   ]
  }
 ],
 "metadata": {
  "kernelspec": {
   "display_name": "Python 3",
   "language": "python",
   "name": "python3"
  },
  "language_info": {
   "codemirror_mode": {
    "name": "ipython",
    "version": 3
   },
   "file_extension": ".py",
   "mimetype": "text/x-python",
   "name": "python",
   "nbconvert_exporter": "python",
   "pygments_lexer": "ipython3",
   "version": "3.10.12"
  }
 },
 "nbformat": 4,
 "nbformat_minor": 2
}
